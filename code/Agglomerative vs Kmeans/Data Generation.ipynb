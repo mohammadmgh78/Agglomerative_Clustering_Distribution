{
 "cells": [
  {
   "cell_type": "code",
   "execution_count": 2,
   "id": "e0882b14",
   "metadata": {},
   "outputs": [
    {
     "name": "stdout",
     "output_type": "stream",
     "text": [
      "Tuples have been written to tuples_list_1.txt\n",
      "Tuples have been written to tuples_list_2.txt\n",
      "Tuples have been written to tuples_list_3.txt\n",
      "Tuples have been written to tuples_list_4.txt\n",
      "Tuples have been written to tuples_list_5.txt\n",
      "Tuples have been written to tuples_list_6.txt\n",
      "Tuples have been written to tuples_list_7.txt\n",
      "Tuples have been written to tuples_list_8.txt\n",
      "Tuples have been written to tuples_list_9.txt\n",
      "Tuples have been written to tuples_list_10.txt\n"
     ]
    }
   ],
   "source": [
    "import numpy as np\n",
    "\n",
    "def generate_normal_tuples(num_lists, num_tuples, means_stds, base_filename):\n",
    "    for i in range(1, 11):  # Repeat 10 times\n",
    "        filename = f\"{base_filename}_{i}.txt\"\n",
    "        with open(filename, 'w') as file:\n",
    "            for _ in range(num_lists):\n",
    "                tuples_list = []\n",
    "                cluster = np.random.choice([0, 1, 2, 3])\n",
    "#                 print(f\"Cluster {cluster} selected for list {i}\")\n",
    "                for _ in range(num_tuples):\n",
    "                    mean_x, std_x, mean_y, std_y = means_stds[cluster]\n",
    "                    tuples_list.append((np.random.normal(mean_x, std_x), np.random.normal(mean_y, std_y)))\n",
    "                file.write(str(tuples_list) + '\\n')\n",
    "        print(f'Tuples have been written to {filename}')\n",
    "\n",
    "# Example usage\n",
    "num_lists = 20  # Number of lists\n",
    "num_tuples = 300  # Number of tuples in each list\n",
    "means_stds = [\n",
    "    (0, 1, 5, 1),    # Mean and standard deviation for cluster 1\n",
    "    (6, 2, 8, 2),    # Mean and standard deviation for cluster 2\n",
    "    (10, 1.5, 15, 1.5),  # Mean and standard deviation for cluster 3\n",
    "    (20, 2.5, 25, 2.5)   # Mean and standard deviation for cluster 4\n",
    "]\n",
    "base_filename = '../../data/tuples_list'\n",
    "\n",
    "generate_normal_tuples(num_lists, num_tuples, means_stds, base_filename)\n"
   ]
  }
 ],
 "metadata": {
  "kernelspec": {
   "display_name": "Python 3 (ipykernel)",
   "language": "python",
   "name": "python3"
  },
  "language_info": {
   "codemirror_mode": {
    "name": "ipython",
    "version": 3
   },
   "file_extension": ".py",
   "mimetype": "text/x-python",
   "name": "python",
   "nbconvert_exporter": "python",
   "pygments_lexer": "ipython3",
   "version": "3.11.5"
  }
 },
 "nbformat": 4,
 "nbformat_minor": 5
}
