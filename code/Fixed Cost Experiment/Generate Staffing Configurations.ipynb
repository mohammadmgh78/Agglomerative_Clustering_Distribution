{
 "cells": [
  {
   "cell_type": "code",
   "execution_count": 26,
   "id": "cbcca559",
   "metadata": {},
   "outputs": [
    {
     "name": "stderr",
     "output_type": "stream",
     "text": [
      "C:\\Users\\moham\\anaconda3_2\\Lib\\site-packages\\sklearn\\cluster\\_kmeans.py:1412: FutureWarning: The default value of `n_init` will change from 10 to 'auto' in 1.4. Set the value of `n_init` explicitly to suppress the warning\n",
      "  super()._check_params_vs_input(X, default_n_init=10)\n",
      "C:\\Users\\moham\\anaconda3_2\\Lib\\site-packages\\sklearn\\cluster\\_kmeans.py:1436: UserWarning: KMeans is known to have a memory leak on Windows with MKL, when there are less chunks than available threads. You can avoid it by setting the environment variable OMP_NUM_THREADS=9.\n",
      "  warnings.warn(\n"
     ]
    }
   ],
   "source": [
    "from sklearn.cluster import KMeans\n",
    "import numpy as np\n",
    "\n",
    "import numpy as np\n",
    "\n",
    "# Initialize an empty list to store the points\n",
    "possible_points = []\n",
    "\n",
    "# Generate all possible 3D points\n",
    "# previously they were all 70\n",
    "for x1 in range(45):  # 0 to 47\n",
    "    for x2 in range(45):  # 0 to 47\n",
    "        for x3 in range(45):  # 0 to 47\n",
    "            if 50 <= 4*x1 + x2 + x3 <= 55:\n",
    "                possible_points.append([x1, x2, x3])\n",
    "\n",
    "\n",
    "# Convert the list of points to a NumPy matrix\n",
    "points_matrix = np.array(possible_points)\n",
    "# Print the matrix\n",
    "\n",
    "points = points_matrix\n",
    "\n",
    "# Number of clusters\n",
    "k = 100\n",
    "\n",
    "# Initialize KMeans\n",
    "kmeans = KMeans(n_clusters=k)\n",
    "\n",
    "# Fit the model\n",
    "kmeans.fit(points)\n",
    "\n",
    "# Get cluster labels\n",
    "labels = kmeans.labels_\n",
    "\n",
    "# Get cluster centroids\n",
    "centroids = kmeans.cluster_centers_\n",
    "integer_matrix = centroids.astype(int)"
   ]
  },
  {
   "cell_type": "code",
   "execution_count": 27,
   "id": "7c959137",
   "metadata": {},
   "outputs": [],
   "source": [
    "import numpy as np\n",
    "\n",
    "# Assuming you have an n*3 matrix\n",
    "n = 100  # You can change n to any number\n",
    "matrix = np.random.rand(n, 3)  # Replace this with your actual matrix\n",
    "\n",
    "# Write the matrix as a list of 3D tuples to a text file\n",
    "with open('../../data/matrix_as_tuples.txt', 'w') as file:\n",
    "    for row in matrix:\n",
    "        # Convert each row to a tuple and write it to the file\n",
    "        file.write(f\"{tuple(row)}\\n\")"
   ]
  },
  {
   "cell_type": "code",
   "execution_count": 28,
   "id": "780e8040",
   "metadata": {},
   "outputs": [],
   "source": [
    "np.savetxt('../../data/matrix.txt', integer_matrix, fmt='%.6f')"
   ]
  },
  {
   "cell_type": "code",
   "execution_count": 29,
   "id": "cd3cf489",
   "metadata": {},
   "outputs": [],
   "source": [
    "loaded_matrix = np.loadtxt('../../data/matrix.txt')"
   ]
  },
  {
   "cell_type": "code",
   "execution_count": null,
   "id": "bc538f4f",
   "metadata": {},
   "outputs": [],
   "source": []
  }
 ],
 "metadata": {
  "kernelspec": {
   "display_name": "Python 3 (ipykernel)",
   "language": "python",
   "name": "python3"
  },
  "language_info": {
   "codemirror_mode": {
    "name": "ipython",
    "version": 3
   },
   "file_extension": ".py",
   "mimetype": "text/x-python",
   "name": "python",
   "nbconvert_exporter": "python",
   "pygments_lexer": "ipython3",
   "version": "3.11.5"
  }
 },
 "nbformat": 4,
 "nbformat_minor": 5
}
